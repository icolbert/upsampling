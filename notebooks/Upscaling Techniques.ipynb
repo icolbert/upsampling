{
 "cells": [
  {
   "cell_type": "code",
   "execution_count": 1,
   "metadata": {},
   "outputs": [],
   "source": [
    "import sys\n",
    "sys.path.append(f\"..\")\n",
    "import torch\n",
    "import torch.nn as nn\n",
    "import numpy as np\n",
    "\n",
    "from upscaling import layers as L\n"
   ]
  },
  {
   "cell_type": "code",
   "execution_count": 2,
   "metadata": {},
   "outputs": [
    {
     "output_type": "stream",
     "name": "stdout",
     "text": [
      "MSE=0.000\n"
     ]
    }
   ],
   "source": [
    "x = torch.randn(1, 2, 6, 6)\n",
    "\n",
    "m = nn.Conv2d(in_channels=2, out_channels=3, kernel_size=3, padding=1, bias=False)\n",
    "n = L.Conv2d(in_channels=2, out_channels=3, kernel_size=3, padding=1)\n",
    "n.weight = m.weight\n",
    "\n",
    "print(f\"MSE={(m(x).squeeze() - n(x.squeeze())).pow(2).mean().item():.3f}\")"
   ]
  },
  {
   "cell_type": "code",
   "execution_count": 3,
   "metadata": {},
   "outputs": [
    {
     "output_type": "stream",
     "name": "stdout",
     "text": [
      "MSE=0.000\n"
     ]
    }
   ],
   "source": [
    "x = torch.zeros(1, 12, 4, 4)\n",
    "r = 2\n",
    "for c in range(12):\n",
    "    x[:,c,:,:] = c\n",
    "\n",
    "m = nn.PixelShuffle(r)\n",
    "n = L.PixelShuffle(r)\n",
    "\n",
    "print(f\"MSE={(m(x).squeeze() - n(x.squeeze())).pow(2).mean().item():.3f}\")"
   ]
  },
  {
   "cell_type": "code",
   "execution_count": 4,
   "metadata": {},
   "outputs": [
    {
     "output_type": "stream",
     "name": "stdout",
     "text": [
      "MSE=0.000\n"
     ]
    }
   ],
   "source": [
    "x = torch.randn(1, 3, 4, 4)\n",
    "r = 2\n",
    "\n",
    "m_layer1 = nn.Conv2d(in_channels=3, out_channels=3*(r**2), kernel_size=3, padding=1, bias=False)\n",
    "m_layer2 = nn.PixelShuffle(r)\n",
    "p = m_layer2(m_layer1(x)).squeeze()\n",
    "\n",
    "\n",
    "n_layer1 = L.Conv2d(in_channels=3, out_channels=3*(r**2), kernel_size=3, padding=1)\n",
    "n_layer2 = L.PixelShuffle(r)\n",
    "n_layer1.weight = m_layer1.weight\n",
    "\n",
    "q = n_layer2(n_layer1(x.squeeze()))\n",
    "\n",
    "print(f\"MSE={(p - q).pow(2).mean().item():.3f}\")\n"
   ]
  },
  {
   "cell_type": "code",
   "execution_count": 5,
   "metadata": {},
   "outputs": [
    {
     "output_type": "stream",
     "name": "stdout",
     "text": [
      "MSE=0.000\n"
     ]
    }
   ],
   "source": [
    "x = torch.randn(1, 3, 4, 4)\n",
    "m = nn.ConvTranspose2d(in_channels=3, out_channels=1, kernel_size=4, stride=2, padding=1, bias=False)\n",
    "n = L.Deconvolution(in_channels=3, out_channels=1, kernel_size=4, stride=2, padding=1)\n",
    "n.weight = m.weight = m.weight\n",
    "\n",
    "print(f\"MSE={(m(x).squeeze() - n(x.squeeze())).pow(2).mean().item():.3f}\")"
   ]
  },
  {
   "cell_type": "code",
   "execution_count": null,
   "metadata": {},
   "outputs": [],
   "source": []
  }
 ],
 "metadata": {
  "kernelspec": {
   "display_name": "Python 3",
   "language": "python",
   "name": "python3"
  },
  "language_info": {
   "codemirror_mode": {
    "name": "ipython",
    "version": 3
   },
   "file_extension": ".py",
   "mimetype": "text/x-python",
   "name": "python",
   "nbconvert_exporter": "python",
   "pygments_lexer": "ipython3",
   "version": "3.7.6-final"
  }
 },
 "nbformat": 4,
 "nbformat_minor": 4
}